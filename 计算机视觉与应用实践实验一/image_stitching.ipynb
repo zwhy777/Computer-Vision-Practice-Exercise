{
 "cells": [
  {
   "cell_type": "markdown",
   "id": "1adb3a23",
   "metadata": {},
   "source": [
    "# 导入包"
   ]
  },
  {
   "cell_type": "code",
   "execution_count": 1,
   "id": "47df34ce",
   "metadata": {
    "scrolled": true
   },
   "outputs": [],
   "source": [
    "from imutils import paths\n",
    "import numpy as np\n",
    "import argparse\n",
    "import imutils\n",
    "import cv2"
   ]
  },
  {
   "cell_type": "markdown",
   "id": "e21e0083",
   "metadata": {},
   "source": [
    "# 构造参数解析器并解析参数"
   ]
  },
  {
   "cell_type": "code",
   "execution_count": 2,
   "id": "1cf0f495",
   "metadata": {},
   "outputs": [],
   "source": [
    "ap = argparse.ArgumentParser()\n",
    "ap.add_argument(\"-i\", \"--images\", type=str,\n",
    "                help=\"path to input directory of images to stitch\")\n",
    "ap.add_argument(\"-o\", \"--output\", type=str,\n",
    "                help=\"path to the output image\")\n",
    "ap.add_argument(\"-c\", \"--crop\", type=int, default=1,\n",
    "                help=\"whether to crop out largest rectangular region\")\n",
    "arg_list = ['-i', 'image', '-o', 'output.png', '-c', '1']\n",
    "args = vars(ap.parse_args(arg_list))"
   ]
  },
  {
   "cell_type": "markdown",
   "id": "704bfa6c",
   "metadata": {},
   "source": [
    "# 加载图像"
   ]
  },
  {
   "cell_type": "code",
   "execution_count": 3,
   "id": "a259de1d",
   "metadata": {},
   "outputs": [
    {
     "name": "stdout",
     "output_type": "stream",
     "text": [
      "[INFO] loading images...\n",
      "[INFO] stitching images...\n"
     ]
    }
   ],
   "source": [
    "print(\"[INFO] loading images...\")\n",
    "imagePaths = sorted(list(paths.list_images(args[\"images\"])))\n",
    "images = []\n",
    "for imagePath in imagePaths:\n",
    "    image = cv2.imread(imagePath)\n",
    "    images.append(image)\n",
    "print(\"[INFO] stitching images...\")\n",
    "stitcher = cv2.createStitcher() if imutils.is_cv3() else cv2.Stitcher_create()\n",
    "(status, stitched) = stitcher.stitch(images)"
   ]
  },
  {
   "cell_type": "markdown",
   "id": "94e4ca65",
   "metadata": {},
   "source": [
    "# 如果状态为 '0'，则成功执行图像拼接"
   ]
  },
  {
   "cell_type": "code",
   "execution_count": 4,
   "id": "6fbfd17e",
   "metadata": {},
   "outputs": [
    {
     "name": "stdout",
     "output_type": "stream",
     "text": [
      "[INFO] cropping...\n"
     ]
    }
   ],
   "source": [
    "if status == 0:\n",
    "    if args[\"crop\"] > 0:\n",
    "        print(\"[INFO] cropping...\")\n",
    "        stitched = cv2.copyMakeBorder(stitched, 10, 10, 10, 10,\n",
    "                                      cv2.BORDER_CONSTANT, (0, 0, 0))\n",
    "        #将拼接后的图像转换为灰度并设置阈值\n",
    "        gray = cv2.cvtColor(stitched, cv2.COLOR_BGR2GRAY)\n",
    "        thresh = cv2.threshold(gray, 0, 255, cv2.THRESH_BINARY)[1]\n",
    "\n",
    "        #查找最大等值线\n",
    "        cnts = cv2.findContours(thresh.copy(), cv2.RETR_EXTERNAL,\n",
    "                                cv2.CHAIN_APPROX_SIMPLE)\n",
    "        cnts = imutils.grab_contours(cnts)\n",
    "        c = max(cnts, key=cv2.contourArea)\n",
    "\n",
    "        # 为掩码分配内存\n",
    "        mask = np.zeros(thresh.shape, dtype=\"uint8\")\n",
    "        (x, y, w, h) = cv2.boundingRect(c)\n",
    "        cv2.rectangle(mask, (x, y), (x + w, y + h), 255, -1)\n",
    "\n",
    "        # 创建两个mask：一个作为我们的实际最小矩形区域和另一个用作计数器的区域\n",
    "        minRect = mask.copy()\n",
    "        sub = mask.copy()\n",
    "\n",
    "\n",
    "        while cv2.countNonZero(sub) > 0:\n",
    "            # 继续循环，直到 没有非零像素留在\n",
    "            minRect = cv2.erode(minRect, None)\n",
    "            sub = cv2.subtract(minRect, thresh)\n",
    "\n",
    "        # 提取边界框 （x， y） 坐标\n",
    "        cnts = cv2.findContours(minRect.copy(), cv2.RETR_EXTERNAL,\n",
    "                                cv2.CHAIN_APPROX_SIMPLE)\n",
    "        cnts = imutils.grab_contours(cnts)\n",
    "        c = max(cnts, key=cv2.contourArea)\n",
    "        (x, y, w, h) = cv2.boundingRect(c)\n",
    "\n",
    "        # 使用边界框坐标提取我们的最终拼接图像\n",
    "        stitched = stitched[y:y + h, x:x + w]\n",
    "\n",
    "    # 将输出拼接后的图片写入磁盘\n",
    "    cv2.imwrite(args[\"output\"], stitched)\n",
    "\n",
    "    # 输出\n",
    "    cv2.imshow(\"Stitched\", stitched)\n",
    "    cv2.waitKey(0)"
   ]
  },
  {
   "cell_type": "markdown",
   "id": "ca46486b",
   "metadata": {},
   "source": [
    "# 否则拼接失败，可能是因为关键点不够被检测到"
   ]
  },
  {
   "cell_type": "code",
   "execution_count": 5,
   "id": "ab0901a4",
   "metadata": {},
   "outputs": [
    {
     "ename": "SyntaxError",
     "evalue": "invalid syntax (3226929527.py, line 1)",
     "output_type": "error",
     "traceback": [
      "\u001b[1;36m  Cell \u001b[1;32mIn[5], line 1\u001b[1;36m\u001b[0m\n\u001b[1;33m    else:\u001b[0m\n\u001b[1;37m    ^\u001b[0m\n\u001b[1;31mSyntaxError\u001b[0m\u001b[1;31m:\u001b[0m invalid syntax\n"
     ]
    }
   ],
   "source": [
    "else:\n",
    "    print(\"[INFO] image stitching failed ({})\".format(status))"
   ]
  }
 ],
 "metadata": {
  "kernelspec": {
   "display_name": "mypytorch",
   "language": "python",
   "name": "mypytorch"
  },
  "language_info": {
   "codemirror_mode": {
    "name": "ipython",
    "version": 3
   },
   "file_extension": ".py",
   "mimetype": "text/x-python",
   "name": "python",
   "nbconvert_exporter": "python",
   "pygments_lexer": "ipython3",
   "version": "3.9.18"
  }
 },
 "nbformat": 4,
 "nbformat_minor": 5
}
